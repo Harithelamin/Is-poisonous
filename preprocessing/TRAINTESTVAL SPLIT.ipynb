{
 "cells": [
  {
   "cell_type": "code",
   "execution_count": 1,
   "id": "f197d46b-5c93-48fc-bba6-ff0017fc79fe",
   "metadata": {},
   "outputs": [],
   "source": [
    "import os\n",
    "import shutil\n",
    "import random\n",
    "\n",
    "def split_dataset(input_folder, output_folder, train_percent=0.85, test_percent=0.15):\n",
    "    # Create output directories for train and test sets\n",
    "    train_dir = os.path.join(output_folder, 'train')\n",
    "    test_dir = os.path.join(output_folder, 'test')\n",
    "    \n",
    "    os.makedirs(train_dir, exist_ok=True)\n",
    "    os.makedirs(test_dir, exist_ok=True)\n",
    "    \n",
    "    # List all class folders in the input folder\n",
    "    class_folders = [f for f in os.listdir(input_folder) if os.path.isdir(os.path.join(input_folder, f))]\n",
    "    \n",
    "    for class_folder in class_folders:\n",
    "        class_input_folder = os.path.join(input_folder, class_folder)\n",
    "        class_train_dir = os.path.join(train_dir, class_folder)\n",
    "        class_test_dir = os.path.join(test_dir, class_folder)\n",
    "        \n",
    "        os.makedirs(class_train_dir, exist_ok=True)\n",
    "        os.makedirs(class_test_dir, exist_ok=True)\n",
    "        \n",
    "        # List all image filenames in the class folder\n",
    "        image_files = [f for f in os.listdir(class_input_folder) if f.endswith('.jpg') or f.endswith('.png')]\n",
    "        \n",
    "        # Shuffle the list of image filenames\n",
    "        random.shuffle(image_files)\n",
    "        \n",
    "        # Calculate number of images for each split\n",
    "        num_images = len(image_files)\n",
    "        num_train = int(train_percent * num_images)\n",
    "        num_test = num_images - num_train\n",
    "        \n",
    "        # Assign images to train and test sets\n",
    "        train_images = image_files[:num_train]\n",
    "        test_images = image_files[num_train:]\n",
    "        \n",
    "        # Copy images to respective output directories\n",
    "        copy_images(train_images, class_input_folder, class_train_dir)\n",
    "        copy_images(test_images, class_input_folder, class_test_dir)\n",
    "\n",
    "def copy_images(image_list, input_folder, output_folder):\n",
    "    for image_name in image_list:\n",
    "        input_path = os.path.join(input_folder, image_name)\n",
    "        output_path = os.path.join(output_folder, image_name)\n",
    "        shutil.copyfile(input_path, output_path)\n",
    "\n",
    "# Define input and output folders\n",
    "input_folder = r'E:\\Large Mushroom Dataset\\mushroom_dataset\\Classes\\LETS USE ONLY THIS'\n",
    "output_folder = r'D:\\New folder'\n",
    "\n",
    "# Split dataset into train and test sets while preserving folder structure\n",
    "split_dataset(input_folder, output_folder)\n"
   ]
  },
  {
   "cell_type": "code",
   "execution_count": 3,
   "id": "6e6792c7-40a6-4a9c-8119-d6d0fbd8bbdb",
   "metadata": {},
   "outputs": [],
   "source": [
    "# Define input and output folders\n",
    "input_folder = r'E:\\Large Mushroom Dataset\\mushroom_dataset\\Classes\\LETS USE ONLY THIS\\poisonous'\n",
    "output_folder = r'D:\\New folder\\poisonous'\n",
    "# Split dataset into train, test, and validation sets\n",
    "split_dataset(input_folder, output_folder)\n"
   ]
  },
  {
   "cell_type": "code",
   "execution_count": null,
   "id": "fc22d9f9-038e-40e8-b6a8-ec945eeb78e6",
   "metadata": {},
   "outputs": [],
   "source": []
  }
 ],
 "metadata": {
  "kernelspec": {
   "display_name": "Python 3 (ipykernel)",
   "language": "python",
   "name": "python3"
  },
  "language_info": {
   "codemirror_mode": {
    "name": "ipython",
    "version": 3
   },
   "file_extension": ".py",
   "mimetype": "text/x-python",
   "name": "python",
   "nbconvert_exporter": "python",
   "pygments_lexer": "ipython3",
   "version": "3.9.19"
  }
 },
 "nbformat": 4,
 "nbformat_minor": 5
}
