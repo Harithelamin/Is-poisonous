{
 "cells": [
  {
   "cell_type": "code",
   "execution_count": 8,
   "id": "fe9c4d77-de16-4b7a-979b-13a8aeb32f00",
   "metadata": {},
   "outputs": [
    {
     "name": "stdout",
     "output_type": "stream",
     "text": [
      "All images converted to JPEG format and original files deleted.\n"
     ]
    }
   ],
   "source": [
    "import os\n",
    "from PIL import Image\n",
    "\n",
    "def convert_to_jpeg(image_path):\n",
    "    try:\n",
    "        with Image.open(image_path) as img:\n",
    "            if img.format != 'JPEG':\n",
    "                # Determine the output filename with .jpg extension\n",
    "                output_path = os.path.splitext(image_path)[0] + '.jpg'\n",
    "                img.convert('RGB').save(output_path, 'JPEG', quality=95)\n",
    "                \n",
    "                # Remove the original image file\n",
    "                os.remove(image_path)\n",
    "            else:\n",
    "                pass  # Image is already in JPEG format\n",
    "    except Exception as e:\n",
    "        pass  # Skip processing in case of any error\n",
    "\n",
    "def convert_images_to_jpeg_recursive(input_root):\n",
    "    for root, dirs, files in os.walk(input_root):\n",
    "        for filename in files:\n",
    "            if filename.lower().endswith(('.png','.jpg' '.bmp', '.gif', '.tiff', '.webp')):\n",
    "                image_path = os.path.join(root, filename)\n",
    "                convert_to_jpeg(image_path)\n",
    "\n",
    "# Define the input root directory\n",
    "input_root = r'E:\\PROJECTS-2nd Sem\\MACHINE LEARNING\\data'\n",
    "\n",
    "# Convert all images to JPEG format recursively\n",
    "convert_images_to_jpeg_recursive(input_root)\n",
    "\n",
    "# Print a message indicating completion\n",
    "print('All images converted to JPEG format and original files deleted.')\n"
   ]
  },
  {
   "cell_type": "code",
   "execution_count": null,
   "id": "e5eaf402-7e25-4985-a8d9-6cc957ad9980",
   "metadata": {},
   "outputs": [],
   "source": []
  }
 ],
 "metadata": {
  "kernelspec": {
   "display_name": "Python 3 (ipykernel)",
   "language": "python",
   "name": "python3"
  },
  "language_info": {
   "codemirror_mode": {
    "name": "ipython",
    "version": 3
   },
   "file_extension": ".py",
   "mimetype": "text/x-python",
   "name": "python",
   "nbconvert_exporter": "python",
   "pygments_lexer": "ipython3",
   "version": "3.9.19"
  }
 },
 "nbformat": 4,
 "nbformat_minor": 5
}
